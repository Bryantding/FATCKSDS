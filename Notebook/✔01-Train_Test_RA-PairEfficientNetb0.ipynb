{
 "cells": [
  {
   "cell_type": "markdown",
   "metadata": {},
   "source": [
    "> Description of the final document: This document was used to train C_Model (PairedEfficientNetb0 Network) and tested on Yildirim & Islam (Coronal) datasets respectively.\n",
    "\n",
    "*  For Islam's TestSet:    best_acc = 92.22%  &nbsp;&nbsp;&nbsp;&nbsp;&nbsp;&nbsp;  80/1028 images\n",
    "\n",
    "*  For Yildirim TestSet: best_acc = 99.71%   &nbsp;&nbsp;&nbsp;&nbsp;&nbsp;&nbsp;  1/346 images"
   ]
  },
  {
   "cell_type": "markdown",
   "metadata": {},
   "source": [
    "The best hyperparameters obtained after screening are:\n",
    "> batch_size = 8\n",
    "\n",
    "> epoch = 60\n",
    "\n",
    "> lr = 0.001\n",
    "\n",
    "> α = 0.4 ； β = 0.6\n"
   ]
  },
  {
   "cell_type": "markdown",
   "metadata": {},
   "source": [
    "### Heterogeneous dataset testing ： Islam's Coronal Dataset (Non_kidney_stone: normal-cyst-tumor)\n"
   ]
  },
  {
   "cell_type": "markdown",
   "metadata": {},
   "source": [
    "#### train"
   ]
  },
  {
   "cell_type": "code",
   "execution_count": null,
   "metadata": {},
   "outputs": [
    {
     "name": "stderr",
     "output_type": "stream",
     "text": [
      "c:\\Users\\6622300074\\AppData\\Local\\anaconda3\\envs\\kidneystone\\lib\\site-packages\\torchvision\\models\\_utils.py:208: UserWarning: The parameter 'pretrained' is deprecated since 0.13 and may be removed in the future, please use 'weights' instead.\n",
      "  warnings.warn(\n",
      "c:\\Users\\6622300074\\AppData\\Local\\anaconda3\\envs\\kidneystone\\lib\\site-packages\\torchvision\\models\\_utils.py:223: UserWarning: Arguments other than a weight enum or `None` for 'weights' are deprecated since 0.13 and may be removed in the future. The current behavior is equivalent to passing `weights=EfficientNet_B0_Weights.IMAGENET1K_V1`. You can also use `weights=EfficientNet_B0_Weights.DEFAULT` to get the most up-to-date weights.\n",
      "  warnings.warn(msg)\n"
     ]
    },
    {
     "name": "stdout",
     "output_type": "stream",
     "text": [
      "Epoch  Train Loss      Train Acc       Val Loss        Val Acc        \n"
     ]
    },
    {
     "name": "stderr",
     "output_type": "stream",
     "text": [
      "2024-10-10 15:42:56,971 - INFO - Best model saved at epoch 1 with validation loss: 0.3721\n",
      "2024-10-10 15:42:57,040 - INFO - Best model saved at epoch 1 with validation accuracy: 0.8526\n"
     ]
    },
    {
     "name": "stdout",
     "output_type": "stream",
     "text": [
      "1      0.5583          0.7261          0.3721          0.8526         \n"
     ]
    },
    {
     "name": "stderr",
     "output_type": "stream",
     "text": [
      "2024-10-10 15:44:29,847 - INFO - Best model saved at epoch 2 with validation loss: 0.1684\n",
      "2024-10-10 15:44:29,917 - INFO - Best model saved at epoch 2 with validation accuracy: 0.9509\n"
     ]
    },
    {
     "name": "stdout",
     "output_type": "stream",
     "text": [
      "2      0.3557          0.8658          0.1684          0.9509         \n"
     ]
    },
    {
     "name": "stderr",
     "output_type": "stream",
     "text": [
      "2024-10-10 15:45:39,450 - INFO - Best model saved at epoch 3 with validation loss: 0.1655\n"
     ]
    },
    {
     "name": "stdout",
     "output_type": "stream",
     "text": [
      "3      0.2681          0.8926          0.1655          0.9364         \n",
      "4      0.2335          0.9098          0.2037          0.9046         \n",
      "5      0.2127          0.9195          0.2583          0.9075         \n"
     ]
    },
    {
     "name": "stderr",
     "output_type": "stream",
     "text": [
      "2024-10-10 15:49:04,680 - INFO - Best model saved at epoch 6 with validation loss: 0.1567\n"
     ]
    },
    {
     "name": "stdout",
     "output_type": "stream",
     "text": [
      "6      0.1717          0.9381          0.1567          0.9451         \n",
      "7      0.1621          0.9429          0.2173          0.9162         \n"
     ]
    },
    {
     "name": "stderr",
     "output_type": "stream",
     "text": [
      "2024-10-10 15:51:38,017 - INFO - Best model saved at epoch 8 with validation loss: 0.1351\n",
      "2024-10-10 15:51:38,072 - INFO - Best model saved at epoch 8 with validation accuracy: 0.9566\n"
     ]
    },
    {
     "name": "stdout",
     "output_type": "stream",
     "text": [
      "8      0.2141          0.9188          0.1351          0.9566         \n",
      "9      0.1518          0.9415          0.1782          0.9277         \n",
      "10     0.2025          0.9222          0.1371          0.9422         \n"
     ]
    },
    {
     "name": "stderr",
     "output_type": "stream",
     "text": [
      "2024-10-10 15:54:48,071 - INFO - Best model saved at epoch 11 with validation loss: 0.0869\n",
      "2024-10-10 15:54:48,119 - INFO - Best model saved at epoch 11 with validation accuracy: 0.9711\n"
     ]
    },
    {
     "name": "stdout",
     "output_type": "stream",
     "text": [
      "11     0.2068          0.9257          0.0869          0.9711         \n",
      "12     0.1687          0.9360          0.1660          0.9538         \n",
      "13     0.1271          0.9498          0.1218          0.9422         \n",
      "14     0.1487          0.9436          0.0986          0.9682         \n",
      "15     0.1684          0.9346          0.1712          0.9277         \n",
      "16     0.1384          0.9518          0.0937          0.9682         \n",
      "17     0.1446          0.9484          0.1406          0.9538         \n",
      "18     0.2558          0.9312          0.1199          0.9566         \n",
      "19     0.1398          0.9580          0.1652          0.9393         \n",
      "20     0.1615          0.9498          0.1342          0.9422         \n",
      "21     0.1386          0.9539          0.1289          0.9509         \n",
      "22     0.1432          0.9449          0.1170          0.9538         \n",
      "23     0.1448          0.9436          0.0895          0.9653         \n",
      "24     0.1623          0.9408          0.1583          0.9451         \n",
      "25     0.1609          0.9360          0.1326          0.9451         \n",
      "26     0.1147          0.9566          0.1058          0.9595         \n",
      "27     0.1437          0.9456          0.1121          0.9653         \n",
      "28     0.1021          0.9635          0.1849          0.9306         \n",
      "29     0.1267          0.9484          0.2733          0.8931         \n",
      "30     0.1309          0.9553          0.1292          0.9422         \n",
      "31     0.0932          0.9601          0.1279          0.9451         \n",
      "32     0.1048          0.9504          0.1385          0.9220         \n",
      "33     0.1169          0.9573          0.1334          0.9538         \n",
      "34     0.0986          0.9580          0.1275          0.9451         \n",
      "35     0.0957          0.9683          0.1113          0.9624         \n",
      "36     0.1281          0.9498          0.1093          0.9480         \n",
      "37     0.1133          0.9649          0.1168          0.9480         \n",
      "38     0.1150          0.9456          0.0954          0.9595         \n",
      "39     0.1087          0.9491          0.1216          0.9480         \n"
     ]
    },
    {
     "name": "stderr",
     "output_type": "stream",
     "text": [
      "2024-10-10 16:26:44,229 - INFO - Best model saved at epoch 40 with validation loss: 0.0868\n"
     ]
    },
    {
     "name": "stdout",
     "output_type": "stream",
     "text": [
      "40     0.1069          0.9566          0.0868          0.9538         \n",
      "41     0.0998          0.9690          0.0892          0.9624         \n",
      "42     0.1004          0.9594          0.1228          0.9509         \n",
      "43     0.1147          0.9573          0.1180          0.9480         \n",
      "44     0.1846          0.9525          0.0874          0.9624         \n",
      "45     0.1215          0.9532          0.1101          0.9538         \n",
      "46     0.1218          0.9621          0.1161          0.9480         \n",
      "47     0.1004          0.9594          0.1275          0.9451         \n",
      "48     0.1053          0.9573          0.1185          0.9451         \n",
      "49     0.1186          0.9539          0.1021          0.9538         \n",
      "50     0.1387          0.9470          0.1195          0.9711         \n",
      "51     0.1090          0.9615          0.1158          0.9538         \n",
      "52     0.1045          0.9615          0.1281          0.9566         \n",
      "53     0.1038          0.9628          0.1597          0.9538         \n",
      "54     0.1122          0.9594          0.0965          0.9538         \n"
     ]
    },
    {
     "name": "stderr",
     "output_type": "stream",
     "text": [
      "2024-10-10 16:43:08,249 - INFO - Best model saved at epoch 55 with validation loss: 0.0866\n"
     ]
    },
    {
     "name": "stdout",
     "output_type": "stream",
     "text": [
      "55     0.1020          0.9663          0.0866          0.9595         \n",
      "56     0.0932          0.9649          0.1044          0.9480         \n",
      "57     0.1281          0.9573          0.0985          0.9624         \n",
      "58     0.1165          0.9518          0.1690          0.9335         \n",
      "59     0.1099          0.9553          0.1351          0.9422         \n"
     ]
    },
    {
     "name": "stderr",
     "output_type": "stream",
     "text": [
      "2024-10-10 16:49:29,298 - INFO - Final model saved.\n"
     ]
    },
    {
     "name": "stdout",
     "output_type": "stream",
     "text": [
      "60     0.1202          0.9580          0.1078          0.9566         \n"
     ]
    }
   ],
   "source": [
    "import os\n",
    "import random\n",
    "import logging\n",
    "import numpy as np\n",
    "from PIL import Image\n",
    "import torch\n",
    "import torch.backends.cudnn as cudnn\n",
    "from torch.utils.data import Dataset, DataLoader\n",
    "import torchvision.transforms as transforms\n",
    "from torchvision.models import efficientnet_b0\n",
    "import torch.nn as nn\n",
    "import torch.optim as optim\n",
    "\n",
    "\n",
    "logging.basicConfig(level=logging.INFO, format='%(asctime)s - %(levelname)s - %(message)s')\n",
    "\n",
    "# Set seed for reproducibility\n",
    "seed = 42\n",
    "random.seed(seed)\n",
    "np.random.seed(seed)\n",
    "torch.manual_seed(seed)\n",
    "if torch.cuda.is_available():\n",
    "    torch.cuda.manual_seed(seed)\n",
    "    torch.cuda.manual_seed_all(seed)\n",
    "    cudnn.deterministic = True\n",
    "    cudnn.benchmark = False\n",
    "\n",
    "class PairedImageDataset(Dataset):\n",
    "    def __init__(self, base_dir_a, base_dir_b, img_size=(224, 224), transform=None):\n",
    "        self.base_dir_a = base_dir_a\n",
    "        self.base_dir_b = base_dir_b\n",
    "        self.img_size = img_size\n",
    "        self.transform = transform\n",
    "        self.image_filenames = []\n",
    "        self.labels = []\n",
    "\n",
    "        for category in [\"Normal\", \"Kidney_stone\"]:\n",
    "            path_a = os.path.join(base_dir_a, category)\n",
    "            path_b = os.path.join(base_dir_b, category)\n",
    "            files = os.listdir(path_a)\n",
    "            for filename in files:\n",
    "                self.image_filenames.append((\n",
    "                    os.path.join(path_a, filename),\n",
    "                    os.path.join(path_b, filename)\n",
    "                ))\n",
    "                self.labels.append(1 if category == \"Kidney_stone\" else 0)\n",
    "\n",
    "    def __len__(self):\n",
    "        return len(self.image_filenames)\n",
    "\n",
    "    def __getitem__(self, idx):\n",
    "        img_path_a, img_path_b = self.image_filenames[idx]\n",
    "        img_a = Image.open(img_path_a).convert('RGB')\n",
    "        img_b = Image.open(img_path_b).convert('RGB')\n",
    "\n",
    "        if self.transform:\n",
    "            img_a = self.transform(img_a)\n",
    "            img_b = self.transform(img_b)\n",
    "\n",
    "        label = self.labels[idx]\n",
    "        return (img_a, img_b), label\n",
    "\n",
    "# data augmentation\n",
    "data_transform = transforms.Compose([\n",
    "    transforms.RandomResizedCrop(224),\n",
    "    transforms.RandomHorizontalFlip(),\n",
    "    transforms.ToTensor(),\n",
    "    transforms.Normalize([0.485, 0.456, 0.406], [0.229, 0.224, 0.225])\n",
    "])\n",
    "\n",
    "# dataset path\n",
    "dataset_dir_a_train = 'C:/Users/6622300074/Desktop/PHD/GitHub/FATCKSDS/data/Train_set/Dataset/Train'\n",
    "dataset_dir_b_train = 'C:/Users/6622300074/Desktop/PHD/GitHub/FATCKSDS/data/Train_set/Dataset_b/Train'\n",
    "dataset_dir_a_val = 'C:/Users/6622300074/Desktop/PHD/GitHub/FATCKSDS/data/Train_set/Dataset/Test'\n",
    "dataset_dir_b_val = 'C:/Users/6622300074/Desktop/PHD/GitHub/FATCKSDS/data/Train_set/Dataset_b/Test'\n",
    "\n",
    "# data loaders\n",
    "batch_size = 8\n",
    "train_dataset = PairedImageDataset(dataset_dir_a_train, dataset_dir_b_train, transform=data_transform)\n",
    "val_dataset = PairedImageDataset(dataset_dir_a_val, dataset_dir_b_val, transform=data_transform)\n",
    "\n",
    "train_loader = DataLoader(train_dataset, batch_size=batch_size, shuffle=True, num_workers=0)\n",
    "val_loader = DataLoader(val_dataset, batch_size=batch_size, shuffle=False, num_workers=0)\n",
    "\n",
    "# model\n",
    "class PairedEfficientNet(nn.Module):\n",
    "    def __init__(self):\n",
    "        super(PairedEfficientNet, self).__init__()\n",
    "        self.base_model = efficientnet_b0(pretrained=True)\n",
    "        self.pooling = nn.AdaptiveAvgPool2d(1)\n",
    "        self.fc1 = nn.Linear(1280, 1024)\n",
    "        self.fc2 = nn.Linear(1024, 1)\n",
    "        self.relu = nn.ReLU()\n",
    "        self.sigmoid = nn.Sigmoid()\n",
    "            \n",
    "    def forward(self, x_a, x_b):\n",
    "        x_a = self.base_model.features(x_a)\n",
    "        x_b = self.base_model.features(x_b)\n",
    "        x = 0.4*x_a + 0.6*x_b\n",
    "        x = self.pooling(x)\n",
    "        x = torch.flatten(x, 1)\n",
    "        x = self.relu(self.fc1(x))\n",
    "        x = self.sigmoid(self.fc2(x))\n",
    "        return x\n",
    "\n",
    "# Initialization Model, loss, optimizer\n",
    "device = torch.device('cuda' if torch.cuda.is_available() else 'cpu')\n",
    "model = PairedEfficientNet().to(device)\n",
    "criterion = nn.BCELoss()\n",
    "optimizer = optim.Adam(model.parameters(), lr=0.001)\n",
    "\n",
    "# epoch\n",
    "num_epochs = 60\n",
    "\n",
    "# Initialize the optimal verification loss and accuracy\n",
    "best_val_loss = float('inf')\n",
    "best_val_acc = 0.0\n",
    "\n",
    "# print the header of the table\n",
    "print(\"{:<6} {:<15} {:<15} {:<15} {:<15}\".format('Epoch', 'Train Loss', 'Train Acc', 'Val Loss', 'Val Acc'))\n",
    "\n",
    "# Training\n",
    "for epoch in range(num_epochs):\n",
    "    model.train()\n",
    "    running_loss = 0.0\n",
    "    running_corrects = 0\n",
    "\n",
    "    for (inputs_a, inputs_b), labels in train_loader:\n",
    "        inputs_a = inputs_a.to(device)\n",
    "        inputs_b = inputs_b.to(device)\n",
    "        labels = labels.float().to(device)\n",
    "\n",
    "        optimizer.zero_grad()\n",
    "        outputs = model(inputs_a, inputs_b)\n",
    "        loss = criterion(outputs, labels.view(-1, 1))\n",
    "        loss.backward()\n",
    "        optimizer.step()\n",
    "\n",
    "        running_loss += loss.item() * inputs_a.size(0)\n",
    "        preds = (outputs >= 0.5).float()\n",
    "        running_corrects += torch.sum(preds.view(-1) == labels)\n",
    "\n",
    "    epoch_loss = running_loss / len(train_loader.dataset)\n",
    "    epoch_acc = running_corrects.double() / len(train_loader.dataset)\n",
    "\n",
    "    # val\n",
    "    model.eval()\n",
    "    val_loss = 0.0\n",
    "    val_corrects = 0\n",
    "\n",
    "    with torch.no_grad():\n",
    "        for (inputs_a, inputs_b), labels in val_loader:\n",
    "            inputs_a = inputs_a.to(device)\n",
    "            inputs_b = inputs_b.to(device)\n",
    "            labels = labels.float().to(device)\n",
    "\n",
    "            outputs = model(inputs_a, inputs_b)\n",
    "            loss = criterion(outputs, labels.view(-1, 1))\n",
    "            val_loss += loss.item() * inputs_a.size(0)\n",
    "\n",
    "            preds = (outputs >= 0.5).float()\n",
    "            val_corrects += torch.sum(preds.view(-1) == labels)\n",
    "\n",
    "    val_loss /= len(val_loader.dataset)\n",
    "    val_acc = val_corrects.double() / len(val_loader.dataset)\n",
    "\n",
    "    # print the training information\n",
    "    print(\"{:<6} {:<15.4f} {:<15.4f} {:<15.4f} {:<15.4f}\".format(\n",
    "        epoch + 1, epoch_loss, epoch_acc.item(), val_loss, val_acc.item()\n",
    "    ))\n",
    "\n",
    "    # save the best model with the lowest validation loss\n",
    "    if val_loss < best_val_loss:\n",
    "        best_val_loss = val_loss\n",
    "        torch.save(model.state_dict(), 'C:/Users/6622300074/Desktop/PHD/GitHub/FATCKSDS/Models/best_model_val_loss_Islam.pth')\n",
    "        logging.info(f'Best model saved at epoch {epoch + 1} with validation loss: {val_loss:.4f}')\n",
    "\n",
    "    # save the best model with the highest validation accuracy\n",
    "    if val_acc > best_val_acc:\n",
    "        best_val_acc = val_acc\n",
    "        torch.save(model.state_dict(), 'C:/Users/6622300074/Desktop/PHD/GitHub/FATCKSDS/Models/best_model_val_acc_Islam.pth')\n",
    "        logging.info(f'Best model saved at epoch {epoch + 1} with validation accuracy: {val_acc:.4f}')\n",
    "\n",
    "# save the final model\n",
    "torch.save(model.state_dict(), 'C:/Users/6622300074/Desktop/PHD/GitHub/FATCKSDS/Models/final_model_Islam.pth')\n",
    "logging.info('Final model saved.')\n"
   ]
  },
  {
   "cell_type": "markdown",
   "metadata": {},
   "source": [
    "#### test"
   ]
  },
  {
   "cell_type": "code",
   "execution_count": null,
   "metadata": {},
   "outputs": [
    {
     "name": "stderr",
     "output_type": "stream",
     "text": [
      "2024-10-10 16:49:31,110 - INFO - Note: NumExpr detected 20 cores but \"NUMEXPR_MAX_THREADS\" not set, so enforcing safe limit of 8.\n",
      "2024-10-10 16:49:31,110 - INFO - NumExpr defaulting to 8 threads.\n"
     ]
    },
    {
     "name": "stdout",
     "output_type": "stream",
     "text": [
      "Testing Best Val Loss Model\n"
     ]
    },
    {
     "name": "stderr",
     "output_type": "stream",
     "text": [
      "c:\\Users\\6622300074\\AppData\\Local\\anaconda3\\envs\\kidneystone\\lib\\site-packages\\torchvision\\models\\_utils.py:208: UserWarning: The parameter 'pretrained' is deprecated since 0.13 and may be removed in the future, please use 'weights' instead.\n",
      "  warnings.warn(\n",
      "c:\\Users\\6622300074\\AppData\\Local\\anaconda3\\envs\\kidneystone\\lib\\site-packages\\torchvision\\models\\_utils.py:223: UserWarning: Arguments other than a weight enum or `None` for 'weights' are deprecated since 0.13 and may be removed in the future. The current behavior is equivalent to passing `weights=EfficientNet_B0_Weights.IMAGENET1K_V1`. You can also use `weights=EfficientNet_B0_Weights.DEFAULT` to get the most up-to-date weights.\n",
      "  warnings.warn(msg)\n"
     ]
    },
    {
     "name": "stdout",
     "output_type": "stream",
     "text": [
      "Best Val Loss Model - Accuracy: 92.22%\n",
      "Best Val Loss Model - ROC AUC Score: 0.96\n"
     ]
    },
    {
     "data": {
      "image/png": "[encoded data removed]",
      "text/plain": [
       "<Figure size 800x600 with 2 Axes>"
      ]
     },
     "metadata": {},
     "output_type": "display_data"
    },
    {
     "name": "stdout",
     "output_type": "stream",
     "text": [
      "Testing Best Val Acc Model\n"
     ]
    },
    {
     "name": "stderr",
     "output_type": "stream",
     "text": [
      "c:\\Users\\6622300074\\AppData\\Local\\anaconda3\\envs\\kidneystone\\lib\\site-packages\\torchvision\\models\\_utils.py:208: UserWarning: The parameter 'pretrained' is deprecated since 0.13 and may be removed in the future, please use 'weights' instead.\n",
      "  warnings.warn(\n",
      "c:\\Users\\6622300074\\AppData\\Local\\anaconda3\\envs\\kidneystone\\lib\\site-packages\\torchvision\\models\\_utils.py:223: UserWarning: Arguments other than a weight enum or `None` for 'weights' are deprecated since 0.13 and may be removed in the future. The current behavior is equivalent to passing `weights=EfficientNet_B0_Weights.IMAGENET1K_V1`. You can also use `weights=EfficientNet_B0_Weights.DEFAULT` to get the most up-to-date weights.\n",
      "  warnings.warn(msg)\n"
     ]
    },
    {
     "name": "stdout",
     "output_type": "stream",
     "text": [
      "Best Val Acc Model - Accuracy: 89.69%\n",
      "Best Val Acc Model - ROC AUC Score: 0.94\n"
     ]
    },
    {
     "data": {
      "image/png": "[encoded data removed]",
      "text/plain": [
       "<Figure size 800x600 with 2 Axes>"
      ]
     },
     "metadata": {},
     "output_type": "display_data"
    },
    {
     "name": "stdout",
     "output_type": "stream",
     "text": [
      "Testing Final Model\n"
     ]
    },
    {
     "name": "stderr",
     "output_type": "stream",
     "text": [
      "c:\\Users\\6622300074\\AppData\\Local\\anaconda3\\envs\\kidneystone\\lib\\site-packages\\torchvision\\models\\_utils.py:208: UserWarning: The parameter 'pretrained' is deprecated since 0.13 and may be removed in the future, please use 'weights' instead.\n",
      "  warnings.warn(\n",
      "c:\\Users\\6622300074\\AppData\\Local\\anaconda3\\envs\\kidneystone\\lib\\site-packages\\torchvision\\models\\_utils.py:223: UserWarning: Arguments other than a weight enum or `None` for 'weights' are deprecated since 0.13 and may be removed in the future. The current behavior is equivalent to passing `weights=EfficientNet_B0_Weights.IMAGENET1K_V1`. You can also use `weights=EfficientNet_B0_Weights.DEFAULT` to get the most up-to-date weights.\n",
      "  warnings.warn(msg)\n"
     ]
    },
    {
     "name": "stdout",
     "output_type": "stream",
     "text": [
      "Final Model - Accuracy: 87.84%\n",
      "Final Model - ROC AUC Score: 0.94\n"
     ]
    },
    {
     "data": {
      "image/png": "[encoded data removed]",
      "text/plain": [
       "<Figure size 800x600 with 2 Axes>"
      ]
     },
     "metadata": {},
     "output_type": "display_data"
    }
   ],
   "source": [
    "import os\n",
    "import numpy as np\n",
    "from PIL import Image\n",
    "import torch\n",
    "from torchvision.transforms import transforms\n",
    "from torchvision.models import efficientnet_b0\n",
    "import torch.nn as nn\n",
    "from sklearn.metrics import accuracy_score, roc_auc_score, confusion_matrix\n",
    "import matplotlib.pyplot as plt\n",
    "import seaborn as sns\n",
    "\n",
    "# define the model\n",
    "class PairedEfficientNet(nn.Module):\n",
    "    def __init__(self):\n",
    "        super(PairedEfficientNet, self).__init__()\n",
    "        self.base_model = efficientnet_b0(pretrained=True)\n",
    "        self.pooling = nn.AdaptiveAvgPool2d(1)\n",
    "        self.fc1 = nn.Linear(1280, 1024)\n",
    "        self.fc2 = nn.Linear(1024, 1)\n",
    "        self.relu = nn.ReLU()\n",
    "        self.sigmoid = nn.Sigmoid()\n",
    "            \n",
    "    def forward(self, x_a, x_b):\n",
    "        x_a = self.base_model.features(x_a)\n",
    "        x_b = self.base_model.features(x_b)\n",
    "        x = 0.4*x_a + 0.6*x_b\n",
    "        x = self.pooling(x)\n",
    "        x = torch.flatten(x, 1)\n",
    "        x = self.relu(self.fc1(x))\n",
    "        x = self.sigmoid(self.fc2(x))\n",
    "        return x\n",
    "\n",
    "# define the data transformation\n",
    "data_transform = transforms.Compose([\n",
    "    transforms.Resize((224, 224)),\n",
    "    transforms.ToTensor(),\n",
    "    transforms.Normalize([0.485, 0.456, 0.406], [0.229, 0.224, 0.225])\n",
    "])\n",
    "\n",
    "# test set paths\n",
    "base_test_dir_a = 'C:/Users/6622300074/Desktop/PHD/GitHub/FATCKSDS/data/Test_set/Dataset_c/Test'\n",
    "base_test_dir_b = 'C:/Users/6622300074/Desktop/PHD/GitHub/FATCKSDS/data/Test_set/Dataset_c_b/Test'\n",
    "\n",
    "def load_and_preprocess_image(path_a, path_b, transform):\n",
    "    try:\n",
    "        img_a = Image.open(path_a).convert('RGB')\n",
    "        img_b = Image.open(path_b).convert('RGB')\n",
    "        if transform:\n",
    "            img_a = transform(img_a)\n",
    "            img_b = transform(img_b)\n",
    "        return img_a, img_b\n",
    "    except Exception as e:\n",
    "        print(f\"Failed to load/process image at {path_a} or {path_b}: {e}\")\n",
    "        return None, None\n",
    "\n",
    "def predict_test_set(base_directory_a, base_directory_b, model, transform):\n",
    "    categories = ['Normal', 'Kidney_stone']\n",
    "    predictions = []\n",
    "    labels = []\n",
    "    for category in categories:\n",
    "        directory_a = os.path.join(base_directory_a, category)\n",
    "        directory_b = os.path.join(base_directory_b, category)\n",
    "        files_a = [f for f in os.listdir(directory_a) if f.lower().endswith(('.png', '.jpg', '.jpeg'))]\n",
    "        files_b = [f for f in os.listdir(directory_b) if f.lower().endswith(('.png', '.jpg', '.jpeg'))]\n",
    "        for file_a, file_b in zip(files_a, files_b):\n",
    "            full_path_a = os.path.join(directory_a, file_a)\n",
    "            full_path_b = os.path.join(directory_b, file_b)\n",
    "            img_a, img_b = load_and_preprocess_image(full_path_a, full_path_b, transform)\n",
    "            if img_a is not None and img_b is not None:\n",
    "                img_a = img_a.unsqueeze(0).to(device)\n",
    "                img_b = img_b.unsqueeze(0).to(device)\n",
    "                with torch.no_grad():\n",
    "                    prediction = model(img_a, img_b).cpu().numpy()[0][0]\n",
    "                predictions.append(prediction)\n",
    "                labels.append(1 if category == 'Kidney_stone' else 0)\n",
    "            else:\n",
    "                print(f\"Skipping image pair {file_a} and {file_b} due to loading issues.\")\n",
    "\n",
    "    return predictions, labels\n",
    "\n",
    "\n",
    "device = torch.device('cuda' if torch.cuda.is_available() else 'cpu')\n",
    "\n",
    "# model paths\n",
    "model_paths = {\n",
    "    'Best Val Loss Model': 'C:/Users/6622300074/Desktop/PHD/GitHub/FATCKSDS/Models/best_model_val_loss_Islam.pth',\n",
    "    'Best Val Acc Model': 'C:/Users/6622300074/Desktop/PHD/GitHub/FATCKSDS/Models/best_model_val_acc_Islam.pth',\n",
    "    'Final Model': 'C:/Users/6622300074/Desktop/PHD/GitHub/FATCKSDS/Models/final_model_Islam.pth'\n",
    "}\n",
    "\n",
    "# test each model\n",
    "for model_name, model_path in model_paths.items():\n",
    "    print(f'Testing {model_name}')\n",
    "\n",
    "    # load the model\n",
    "    model = PairedEfficientNet().to(device)\n",
    "    model.load_state_dict(torch.load(model_path, map_location=device))\n",
    "    model.eval()\n",
    "\n",
    "    # predict the test set\n",
    "    predictions, labels = predict_test_set(base_test_dir_a, base_test_dir_b, model, data_transform)\n",
    "\n",
    "    if predictions and labels: # check if valid data was processed\n",
    "        binary_predictions = [1 if p >= 0.5 else 0 for p in predictions]\n",
    "        accuracy = accuracy_score(labels, binary_predictions)\n",
    "        roc_auc = roc_auc_score(labels, predictions)  # use probabilities for ROC AUC\n",
    "        cm = confusion_matrix(labels, binary_predictions)\n",
    "        print(f\"{model_name} - Accuracy: {accuracy*100:.2f}%\")\n",
    "        print(f\"{model_name} - ROC AUC Score: {roc_auc:.2f}\")\n",
    "\n",
    "        # plot confusion matrix\n",
    "        plt.figure(figsize=(8, 6))\n",
    "        sns.heatmap(cm, annot=True, fmt='d', cmap='Blues', xticklabels=['Normal', 'Kidney Stone'], yticklabels=['Normal', 'Kidney Stone'])\n",
    "        plt.xlabel('Predicted Label')\n",
    "        plt.ylabel('True Label')\n",
    "        plt.title(f'Confusion Matrix - {model_name}')\n",
    "        plt.show()\n",
    "    else:\n",
    "        print(\"No valid data was processed. Please check input paths and file formats.\")\n"
   ]
  },
  {
   "cell_type": "markdown",
   "metadata": {},
   "source": [
    "###  Homogeneous dataset testing ： Yildirim's Coronal Dataset"
   ]
  },
  {
   "cell_type": "markdown",
   "metadata": {},
   "source": [
    "#### train"
   ]
  },
  {
   "cell_type": "code",
   "execution_count": null,
   "metadata": {},
   "outputs": [
    {
     "name": "stderr",
     "output_type": "stream",
     "text": [
      "c:\\Users\\6622300074\\AppData\\Local\\anaconda3\\envs\\kidneystone\\lib\\site-packages\\torchvision\\models\\_utils.py:208: UserWarning: The parameter 'pretrained' is deprecated since 0.13 and may be removed in the future, please use 'weights' instead.\n",
      "  warnings.warn(\n",
      "c:\\Users\\6622300074\\AppData\\Local\\anaconda3\\envs\\kidneystone\\lib\\site-packages\\torchvision\\models\\_utils.py:223: UserWarning: Arguments other than a weight enum or `None` for 'weights' are deprecated since 0.13 and may be removed in the future. The current behavior is equivalent to passing `weights=EfficientNet_B0_Weights.IMAGENET1K_V1`. You can also use `weights=EfficientNet_B0_Weights.DEFAULT` to get the most up-to-date weights.\n",
      "  warnings.warn(msg)\n"
     ]
    },
    {
     "name": "stdout",
     "output_type": "stream",
     "text": [
      "Epoch  Train Loss      Train Acc       Val Loss        Val Acc        \n"
     ]
    },
    {
     "name": "stderr",
     "output_type": "stream",
     "text": [
      "2024-10-10 17:32:48,235 - INFO - Best model saved at epoch 1 with validation loss: 0.2930\n",
      "2024-10-10 17:32:48,324 - INFO - Best model saved at epoch 1 with validation accuracy: 0.8815\n"
     ]
    },
    {
     "name": "stdout",
     "output_type": "stream",
     "text": [
      "1      0.5764          0.6867          0.2930          0.8815         \n"
     ]
    },
    {
     "name": "stderr",
     "output_type": "stream",
     "text": [
      "2024-10-10 17:33:41,090 - INFO - Best model saved at epoch 2 with validation loss: 0.2002\n",
      "2024-10-10 17:33:41,142 - INFO - Best model saved at epoch 2 with validation accuracy: 0.9480\n"
     ]
    },
    {
     "name": "stdout",
     "output_type": "stream",
     "text": [
      "2      0.3811          0.8606          0.2002          0.9480         \n",
      "3      0.3308          0.8718          0.2440          0.9191         \n"
     ]
    },
    {
     "name": "stderr",
     "output_type": "stream",
     "text": [
      "2024-10-10 17:35:27,321 - INFO - Best model saved at epoch 4 with validation loss: 0.1982\n"
     ]
    },
    {
     "name": "stdout",
     "output_type": "stream",
     "text": [
      "4      0.2487          0.9062          0.1982          0.9075         \n"
     ]
    },
    {
     "name": "stderr",
     "output_type": "stream",
     "text": [
      "2024-10-10 17:36:20,469 - INFO - Best model saved at epoch 5 with validation loss: 0.1725\n"
     ]
    },
    {
     "name": "stdout",
     "output_type": "stream",
     "text": [
      "5      0.2495          0.9105          0.1725          0.9335         \n"
     ]
    },
    {
     "name": "stderr",
     "output_type": "stream",
     "text": [
      "2024-10-10 17:37:20,122 - INFO - Best model saved at epoch 6 with validation loss: 0.1521\n"
     ]
    },
    {
     "name": "stdout",
     "output_type": "stream",
     "text": [
      "6      0.2288          0.9079          0.1521          0.9422         \n",
      "7      0.2365          0.9122          0.3216          0.8410         \n",
      "8      0.1907          0.9269          0.2643          0.9249         \n",
      "9      0.2354          0.9174          0.1722          0.9451         \n",
      "10     0.1911          0.9312          0.3339          0.8902         \n"
     ]
    },
    {
     "name": "stderr",
     "output_type": "stream",
     "text": [
      "2024-10-10 17:41:51,064 - INFO - Best model saved at epoch 11 with validation loss: 0.1358\n",
      "2024-10-10 17:41:51,113 - INFO - Best model saved at epoch 11 with validation accuracy: 0.9538\n"
     ]
    },
    {
     "name": "stdout",
     "output_type": "stream",
     "text": [
      "11     0.1784          0.9441          0.1358          0.9538         \n",
      "12     0.2026          0.9225          0.1897          0.9364         \n",
      "13     0.1512          0.9458          0.1520          0.9335         \n",
      "14     0.1674          0.9380          0.1508          0.9451         \n"
     ]
    },
    {
     "name": "stderr",
     "output_type": "stream",
     "text": [
      "2024-10-10 17:45:34,801 - INFO - Best model saved at epoch 15 with validation loss: 0.0829\n",
      "2024-10-10 17:45:34,845 - INFO - Best model saved at epoch 15 with validation accuracy: 0.9653\n"
     ]
    },
    {
     "name": "stdout",
     "output_type": "stream",
     "text": [
      "15     0.1494          0.9492          0.0829          0.9653         \n",
      "16     0.1418          0.9570          0.1280          0.9509         \n",
      "17     0.1669          0.9475          0.2293          0.9191         \n",
      "18     0.1633          0.9458          0.1333          0.9509         \n",
      "19     0.1483          0.9380          0.1384          0.9393         \n",
      "20     0.1627          0.9398          0.0983          0.9566         \n",
      "21     0.1744          0.9398          0.2013          0.9133         \n",
      "22     0.1369          0.9492          0.2174          0.9249         \n",
      "23     0.1457          0.9518          0.0960          0.9624         \n",
      "24     0.1702          0.9423          0.1692          0.9480         \n"
     ]
    },
    {
     "name": "stderr",
     "output_type": "stream",
     "text": [
      "2024-10-10 17:54:32,706 - INFO - Best model saved at epoch 25 with validation loss: 0.0809\n",
      "2024-10-10 17:54:32,757 - INFO - Best model saved at epoch 25 with validation accuracy: 0.9711\n"
     ]
    },
    {
     "name": "stdout",
     "output_type": "stream",
     "text": [
      "25     0.1560          0.9406          0.0809          0.9711         \n",
      "26     0.1307          0.9518          0.1400          0.9509         \n",
      "27     0.1355          0.9518          0.1250          0.9480         \n",
      "28     0.1176          0.9587          0.0930          0.9711         \n",
      "29     0.1085          0.9656          0.1362          0.9480         \n",
      "30     0.1140          0.9596          0.1720          0.9335         \n",
      "31     0.1412          0.9458          0.1113          0.9538         \n",
      "32     0.1422          0.9484          0.0986          0.9624         \n",
      "33     0.1118          0.9527          0.0871          0.9624         \n",
      "34     0.1103          0.9647          0.1521          0.9393         \n",
      "35     0.1213          0.9596          0.1317          0.9451         \n",
      "36     0.1370          0.9535          0.0939          0.9595         \n",
      "37     0.1231          0.9552          0.1244          0.9509         \n",
      "38     0.1405          0.9484          0.1419          0.9451         \n",
      "39     0.1663          0.9423          0.2007          0.9191         \n",
      "40     0.1330          0.9466          0.1582          0.9509         \n",
      "41     0.1481          0.9484          0.2022          0.9220         \n",
      "42     0.1199          0.9613          0.1258          0.9393         \n",
      "43     0.1428          0.9492          0.1706          0.9480         \n",
      "44     0.1012          0.9613          0.0919          0.9653         \n",
      "45     0.1418          0.9561          0.1543          0.9509         \n",
      "46     0.1270          0.9561          0.1251          0.9451         \n",
      "47     0.1261          0.9492          0.1624          0.9306         \n"
     ]
    },
    {
     "name": "stderr",
     "output_type": "stream",
     "text": [
      "2024-10-10 18:15:12,460 - INFO - Best model saved at epoch 48 with validation loss: 0.0712\n"
     ]
    },
    {
     "name": "stdout",
     "output_type": "stream",
     "text": [
      "48     0.1221          0.9613          0.0712          0.9682         \n",
      "49     0.1350          0.9561          0.1931          0.9335         \n",
      "50     0.1167          0.9544          0.1047          0.9566         \n",
      "51     0.0767          0.9750          0.0809          0.9566         \n",
      "52     0.1119          0.9578          0.1031          0.9509         \n",
      "53     0.1189          0.9596          0.1232          0.9538         \n",
      "54     0.0939          0.9587          0.1120          0.9509         \n",
      "55     0.0889          0.9673          0.0927          0.9595         \n",
      "56     0.1005          0.9639          0.1179          0.9509         \n",
      "57     0.1113          0.9613          0.1241          0.9509         \n",
      "58     0.1202          0.9501          0.1539          0.9451         \n",
      "59     0.0930          0.9716          0.1026          0.9624         \n"
     ]
    },
    {
     "name": "stderr",
     "output_type": "stream",
     "text": [
      "2024-10-10 18:26:04,302 - INFO - Final model saved.\n"
     ]
    },
    {
     "name": "stdout",
     "output_type": "stream",
     "text": [
      "60     0.1236          0.9570          0.1438          0.9538         \n"
     ]
    }
   ],
   "source": [
    "import os\n",
    "import random\n",
    "import logging\n",
    "import numpy as np\n",
    "from PIL import Image\n",
    "import torch\n",
    "import torch.backends.cudnn as cudnn\n",
    "import torchvision.transforms as transforms\n",
    "from torchvision.models import efficientnet_b0\n",
    "import torch.nn as nn\n",
    "import torch.optim as optim\n",
    "from PIL import Image\n",
    "from torch.utils.data import Dataset, DataLoader, random_split\n",
    "\n",
    "# set up logging\n",
    "logging.basicConfig(level=logging.INFO, format='%(asctime)s - %(levelname)s - %(message)s')\n",
    "\n",
    "# set seed for reproducibility\n",
    "seed = 42\n",
    "random.seed(seed)\n",
    "np.random.seed(seed)\n",
    "torch.manual_seed(seed)\n",
    "if torch.cuda.is_available():\n",
    "    torch.cuda.manual_seed(seed)\n",
    "    torch.cuda.manual_seed_all(seed)\n",
    "    cudnn.deterministic = True\n",
    "    cudnn.benchmark = False\n",
    "\n",
    "class PairedImageDataset(Dataset):\n",
    "    def __init__(self, base_dir_a, base_dir_b, img_size=(224, 224), transform=None):\n",
    "        self.base_dir_a = base_dir_a\n",
    "        self.base_dir_b = base_dir_b\n",
    "        self.img_size = img_size\n",
    "        self.transform = transform\n",
    "        self.image_filenames = []\n",
    "        self.labels = []\n",
    "\n",
    "        for category in [\"Normal\", \"Kidney_stone\"]:\n",
    "            path_a = os.path.join(base_dir_a, category)\n",
    "            path_b = os.path.join(base_dir_b, category)\n",
    "            files = os.listdir(path_a)\n",
    "            for filename in files:\n",
    "                self.image_filenames.append((\n",
    "                    os.path.join(path_a, filename),\n",
    "                    os.path.join(path_b, filename)\n",
    "                ))\n",
    "                self.labels.append(1 if category == \"Kidney_stone\" else 0)\n",
    "\n",
    "    def __len__(self):\n",
    "        return len(self.image_filenames)\n",
    "\n",
    "    def __getitem__(self, idx):\n",
    "        img_path_a, img_path_b = self.image_filenames[idx]\n",
    "        img_a = Image.open(img_path_a).convert('RGB')\n",
    "        img_b = Image.open(img_path_b).convert('RGB')\n",
    "\n",
    "        if self.transform:\n",
    "            img_a = self.transform(img_a)\n",
    "            img_b = self.transform(img_b)\n",
    "\n",
    "        label = self.labels[idx]\n",
    "        return (img_a, img_b), label\n",
    "\n",
    "# data augmentation\n",
    "data_transform = transforms.Compose([\n",
    "    transforms.RandomResizedCrop(224),\n",
    "    transforms.RandomHorizontalFlip(),\n",
    "    transforms.ToTensor(),\n",
    "    transforms.Normalize([0.485, 0.456, 0.406], [0.229, 0.224, 0.225])\n",
    "])\n",
    "\n",
    "# dataset paths\n",
    "dataset_dir_a_train = 'C:/Users/6622300074/Desktop/PHD/GitHub/FATCKSDS/data/Train_set/Dataset/Train'\n",
    "dataset_dir_b_train = 'C:/Users/6622300074/Desktop/PHD/GitHub/FATCKSDS/data/Train_set/Dataset_b/Train'\n",
    "\n",
    "\n",
    "\n",
    "# Load the dataset\n",
    "full_dataset = PairedImageDataset(dataset_dir_a_train, dataset_dir_b_train, transform=data_transform)\n",
    "\n",
    "# Split dataset into training and validation sets (80:20 split)\n",
    "train_size = int(0.8 * len(full_dataset))\n",
    "val_size = len(full_dataset) - train_size\n",
    "train_dataset, val_dataset = random_split(full_dataset, [train_size, val_size], generator=torch.Generator().manual_seed(seed))\n",
    "\n",
    "# Data loaders\n",
    "train_loader = DataLoader(train_dataset, batch_size=batch_size, shuffle=True)\n",
    "val_loader = DataLoader(val_dataset, batch_size=batch_size, shuffle=False)\n",
    "\n",
    "\n",
    "# define the model\n",
    "class PairedEfficientNet(nn.Module):\n",
    "    def __init__(self):\n",
    "        super(PairedEfficientNet, self).__init__()\n",
    "        self.base_model = efficientnet_b0(pretrained=True)\n",
    "        self.pooling = nn.AdaptiveAvgPool2d(1)\n",
    "        self.fc1 = nn.Linear(1280, 1024)\n",
    "        self.fc2 = nn.Linear(1024, 1)\n",
    "        self.relu = nn.ReLU()\n",
    "        self.sigmoid = nn.Sigmoid()\n",
    "            \n",
    "    def forward(self, x_a, x_b):\n",
    "        x_a = self.base_model.features(x_a)\n",
    "        x_b = self.base_model.features(x_b)\n",
    "        x = 0.4*x_a + 0.6*x_b\n",
    "        x = self.pooling(x)\n",
    "        x = torch.flatten(x, 1)\n",
    "        x = self.relu(self.fc1(x))\n",
    "        x = self.sigmoid(self.fc2(x))\n",
    "        return x\n",
    "\n",
    "# model, loss, optimizer\n",
    "device = torch.device('cuda' if torch.cuda.is_available() else 'cpu')\n",
    "model = PairedEfficientNet().to(device)\n",
    "criterion = nn.BCELoss()\n",
    "optimizer = optim.Adam(model.parameters(), lr=0.001)\n",
    "\n",
    "# epoch\n",
    "num_epochs = 60\n",
    "\n",
    "# Initialize the optimal verification loss and accuracy\n",
    "best_val_loss = float('inf')\n",
    "best_val_acc = 0.0\n",
    "\n",
    "# print the header of the table\n",
    "print(\"{:<6} {:<15} {:<15} {:<15} {:<15}\".format('Epoch', 'Train Loss', 'Train Acc', 'Val Loss', 'Val Acc'))\n",
    "\n",
    "# Training\n",
    "for epoch in range(num_epochs):\n",
    "    model.train()\n",
    "    running_loss = 0.0\n",
    "    running_corrects = 0\n",
    "\n",
    "    for (inputs_a, inputs_b), labels in train_loader:\n",
    "        inputs_a = inputs_a.to(device)\n",
    "        inputs_b = inputs_b.to(device)\n",
    "        labels = labels.float().to(device)\n",
    "\n",
    "        optimizer.zero_grad()\n",
    "        outputs = model(inputs_a, inputs_b)\n",
    "        loss = criterion(outputs, labels.view(-1, 1))\n",
    "        loss.backward()\n",
    "        optimizer.step()\n",
    "\n",
    "        running_loss += loss.item() * inputs_a.size(0)\n",
    "        preds = (outputs >= 0.5).float()\n",
    "        running_corrects += torch.sum(preds.view(-1) == labels)\n",
    "\n",
    "    epoch_loss = running_loss / len(train_loader.dataset)\n",
    "    epoch_acc = running_corrects.double() / len(train_loader.dataset)\n",
    "\n",
    "    # val\n",
    "    model.eval()\n",
    "    val_loss = 0.0\n",
    "    val_corrects = 0\n",
    "\n",
    "    with torch.no_grad():\n",
    "        for (inputs_a, inputs_b), labels in val_loader:\n",
    "            inputs_a = inputs_a.to(device)\n",
    "            inputs_b = inputs_b.to(device)\n",
    "            labels = labels.float().to(device)\n",
    "\n",
    "            outputs = model(inputs_a, inputs_b)\n",
    "            loss = criterion(outputs, labels.view(-1, 1))\n",
    "            val_loss += loss.item() * inputs_a.size(0)\n",
    "\n",
    "            preds = (outputs >= 0.5).float()\n",
    "            val_corrects += torch.sum(preds.view(-1) == labels)\n",
    "\n",
    "    val_loss /= len(val_loader.dataset)\n",
    "    val_acc = val_corrects.double() / len(val_loader.dataset)\n",
    "\n",
    "    # print the training information\n",
    "    print(\"{:<6} {:<15.4f} {:<15.4f} {:<15.4f} {:<15.4f}\".format(\n",
    "        epoch + 1, epoch_loss, epoch_acc.item(), val_loss, val_acc.item()\n",
    "    ))\n",
    "\n",
    "    # save the best model with the lowest validation\n",
    "    if val_loss < best_val_loss:\n",
    "        best_val_loss = val_loss\n",
    "        torch.save(model.state_dict(), 'C:/Users/6622300074/Desktop/PHD/GitHub/FATCKSDS/Models/best_model_val_loss_Yildirim.pth')\n",
    "        logging.info(f'Best model saved at epoch {epoch + 1} with validation loss: {val_loss:.4f}')\n",
    "\n",
    "    # save the best model with the highest validation accuracy\n",
    "    if val_acc > best_val_acc:\n",
    "        best_val_acc = val_acc\n",
    "        torch.save(model.state_dict(), 'C:/Users/6622300074/Desktop/PHD/GitHub/FATCKSDS/Models/best_model_val_acc_Yildirim.pth')\n",
    "        logging.info(f'Best model saved at epoch {epoch + 1} with validation accuracy: {val_acc:.4f}')\n",
    "\n",
    "# save the final model\n",
    "torch.save(model.state_dict(), 'C:/Users/6622300074/Desktop/PHD/GitHub/FATCKSDS/Models/final_model_Yildirim.pth')\n",
    "logging.info('Final model saved.')\n"
   ]
  },
  {
   "cell_type": "markdown",
   "metadata": {},
   "source": [
    "#### test"
   ]
  },
  {
   "cell_type": "code",
   "execution_count": 6,
   "metadata": {},
   "outputs": [
    {
     "name": "stdout",
     "output_type": "stream",
     "text": [
      "Testing Best Val Loss Model\n"
     ]
    },
    {
     "name": "stderr",
     "output_type": "stream",
     "text": [
      "c:\\Users\\6622300074\\AppData\\Local\\anaconda3\\envs\\kidneystone\\lib\\site-packages\\torchvision\\models\\_utils.py:208: UserWarning: The parameter 'pretrained' is deprecated since 0.13 and may be removed in the future, please use 'weights' instead.\n",
      "  warnings.warn(\n",
      "c:\\Users\\6622300074\\AppData\\Local\\anaconda3\\envs\\kidneystone\\lib\\site-packages\\torchvision\\models\\_utils.py:223: UserWarning: Arguments other than a weight enum or `None` for 'weights' are deprecated since 0.13 and may be removed in the future. The current behavior is equivalent to passing `weights=EfficientNet_B0_Weights.IMAGENET1K_V1`. You can also use `weights=EfficientNet_B0_Weights.DEFAULT` to get the most up-to-date weights.\n",
      "  warnings.warn(msg)\n"
     ]
    },
    {
     "name": "stdout",
     "output_type": "stream",
     "text": [
      "Best Val Loss Model - Accuracy: 99.42%\n",
      "Best Val Loss Model - ROC AUC Score: 1.00\n"
     ]
    },
    {
     "data": {
      "image/png": "[encoded data removed]",
      "text/plain": [
       "<Figure size 800x600 with 2 Axes>"
      ]
     },
     "metadata": {},
     "output_type": "display_data"
    },
    {
     "name": "stdout",
     "output_type": "stream",
     "text": [
      "Testing Best Val Acc Model\n"
     ]
    },
    {
     "name": "stderr",
     "output_type": "stream",
     "text": [
      "c:\\Users\\6622300074\\AppData\\Local\\anaconda3\\envs\\kidneystone\\lib\\site-packages\\torchvision\\models\\_utils.py:208: UserWarning: The parameter 'pretrained' is deprecated since 0.13 and may be removed in the future, please use 'weights' instead.\n",
      "  warnings.warn(\n",
      "c:\\Users\\6622300074\\AppData\\Local\\anaconda3\\envs\\kidneystone\\lib\\site-packages\\torchvision\\models\\_utils.py:223: UserWarning: Arguments other than a weight enum or `None` for 'weights' are deprecated since 0.13 and may be removed in the future. The current behavior is equivalent to passing `weights=EfficientNet_B0_Weights.IMAGENET1K_V1`. You can also use `weights=EfficientNet_B0_Weights.DEFAULT` to get the most up-to-date weights.\n",
      "  warnings.warn(msg)\n"
     ]
    },
    {
     "name": "stdout",
     "output_type": "stream",
     "text": [
      "Best Val Acc Model - Accuracy: 99.71%\n",
      "Best Val Acc Model - ROC AUC Score: 1.00\n"
     ]
    },
    {
     "data": {
      "image/png": "[encoded data removed]",
      "text/plain": [
       "<Figure size 800x600 with 2 Axes>"
      ]
     },
     "metadata": {},
     "output_type": "display_data"
    },
    {
     "name": "stdout",
     "output_type": "stream",
     "text": [
      "Testing Final Model\n"
     ]
    },
    {
     "name": "stderr",
     "output_type": "stream",
     "text": [
      "c:\\Users\\6622300074\\AppData\\Local\\anaconda3\\envs\\kidneystone\\lib\\site-packages\\torchvision\\models\\_utils.py:208: UserWarning: The parameter 'pretrained' is deprecated since 0.13 and may be removed in the future, please use 'weights' instead.\n",
      "  warnings.warn(\n",
      "c:\\Users\\6622300074\\AppData\\Local\\anaconda3\\envs\\kidneystone\\lib\\site-packages\\torchvision\\models\\_utils.py:223: UserWarning: Arguments other than a weight enum or `None` for 'weights' are deprecated since 0.13 and may be removed in the future. The current behavior is equivalent to passing `weights=EfficientNet_B0_Weights.IMAGENET1K_V1`. You can also use `weights=EfficientNet_B0_Weights.DEFAULT` to get the most up-to-date weights.\n",
      "  warnings.warn(msg)\n"
     ]
    },
    {
     "name": "stdout",
     "output_type": "stream",
     "text": [
      "Final Model - Accuracy: 99.42%\n",
      "Final Model - ROC AUC Score: 1.00\n"
     ]
    },
    {
     "data": {
      "image/png": "[encoded data removed]",
      "text/plain": [
       "<Figure size 800x600 with 2 Axes>"
      ]
     },
     "metadata": {},
     "output_type": "display_data"
    }
   ],
   "source": [
    "import os\n",
    "import numpy as np\n",
    "from PIL import Image\n",
    "import torch\n",
    "from torchvision.transforms import transforms\n",
    "from torchvision.models import efficientnet_b0\n",
    "import torch.nn as nn\n",
    "from sklearn.metrics import accuracy_score, roc_auc_score, confusion_matrix\n",
    "import matplotlib.pyplot as plt\n",
    "import seaborn as sns\n",
    "from torch.utils.data import Dataset, DataLoader\n",
    "import torch.optim as optim\n",
    "\n",
    "# define the model\n",
    "class PairedEfficientNet(nn.Module):\n",
    "    def __init__(self):\n",
    "        super(PairedEfficientNet, self).__init__()\n",
    "        self.base_model = efficientnet_b0(pretrained=True)\n",
    "        self.pooling = nn.AdaptiveAvgPool2d(1)\n",
    "        self.fc1 = nn.Linear(1280, 1024)\n",
    "        self.fc2 = nn.Linear(1024, 1)\n",
    "        self.relu = nn.ReLU()\n",
    "        self.sigmoid = nn.Sigmoid()\n",
    "            \n",
    "    def forward(self, x_a, x_b):\n",
    "        x_a = self.base_model.features(x_a)\n",
    "        x_b = self.base_model.features(x_b)\n",
    "        x = 0.4*x_a + 0.6*x_b\n",
    "        x = self.pooling(x)\n",
    "        x = torch.flatten(x, 1)\n",
    "        x = self.relu(self.fc1(x))\n",
    "        x = self.sigmoid(self.fc2(x))\n",
    "        return x\n",
    "\n",
    "# define the data transformation\n",
    "data_transform = transforms.Compose([\n",
    "    transforms.Resize((224, 224)),\n",
    "    transforms.ToTensor(),\n",
    "    transforms.Normalize([0.485, 0.456, 0.406], [0.229, 0.224, 0.225])\n",
    "])\n",
    "\n",
    "# test set paths\n",
    "base_test_dir_a = 'C:/Users/6622300074/Desktop/PHD/GitHub/FATCKSDS/data/Train_set/Dataset/Test'\n",
    "base_test_dir_b = 'C:/Users/6622300074/Desktop/PHD/GitHub/FATCKSDS/data/Train_set/Dataset_crop_black/Test'\n",
    "\n",
    "def load_and_preprocess_image(path_a, path_b, transform):\n",
    "    try:\n",
    "        img_a = Image.open(path_a).convert('RGB')\n",
    "        img_b = Image.open(path_b).convert('RGB')\n",
    "        if transform:\n",
    "            img_a = transform(img_a)\n",
    "            img_b = transform(img_b)\n",
    "        return img_a, img_b\n",
    "    except Exception as e:\n",
    "        print(f\"Failed to load/process image at {path_a} or {path_b}: {e}\")\n",
    "        return None, None\n",
    "# predict the test set\n",
    "def predict_test_set(base_directory_a, base_directory_b, model, transform):\n",
    "    categories = ['Normal', 'Kidney_stone']\n",
    "    predictions = []\n",
    "    labels = []\n",
    "    for category in categories:\n",
    "        directory_a = os.path.join(base_directory_a, category)\n",
    "        directory_b = os.path.join(base_directory_b, category)\n",
    "        files_a = [f for f in os.listdir(directory_a) if f.lower().endswith(('.png', '.jpg', '.jpeg'))]\n",
    "        files_b = [f for f in os.listdir(directory_b) if f.lower().endswith(('.png', '.jpg', '.jpeg'))]\n",
    "        for file_a, file_b in zip(files_a, files_b):\n",
    "            full_path_a = os.path.join(directory_a, file_a)\n",
    "            full_path_b = os.path.join(directory_b, file_b)\n",
    "            img_a, img_b = load_and_preprocess_image(full_path_a, full_path_b, transform)\n",
    "            if img_a is not None and img_b is not None:\n",
    "                img_a = img_a.unsqueeze(0).to(device)\n",
    "                img_b = img_b.unsqueeze(0).to(device)\n",
    "                with torch.no_grad():\n",
    "                    prediction = model(img_a, img_b).cpu().numpy()[0][0]\n",
    "                predictions.append(prediction)\n",
    "                labels.append(1 if category == 'Kidney_stone' else 0)\n",
    "            else:\n",
    "                print(f\"Skipping image pair {file_a} and {file_b} due to loading issues.\")\n",
    "\n",
    "    return predictions, labels\n",
    "\n",
    "\n",
    "device = torch.device('cuda' if torch.cuda.is_available() else 'cpu')\n",
    "\n",
    "# paths to the models\n",
    "model_paths = {\n",
    "    'Best Val Loss Model': 'C:/Users/6622300074/Desktop/PHD/GitHub/FATCKSDS/Models/best_model_val_loss_Yildirim.pth',\n",
    "    'Best Val Acc Model': 'C:/Users/6622300074/Desktop/PHD/GitHub/FATCKSDS/Models/best_model_val_acc_Yildirim.pth',\n",
    "    'Final Model': 'C:/Users/6622300074/Desktop/PHD/GitHub/FATCKSDS/Models/final_model_Yildirim.pth'\n",
    "}\n",
    "\n",
    "# test each model\n",
    "for model_name, model_path in model_paths.items():\n",
    "    print(f'Testing {model_name}')\n",
    "\n",
    "    # 加载模型\n",
    "    model = PairedEfficientNet().to(device)\n",
    "    model.load_state_dict(torch.load(model_path, map_location=device))\n",
    "    model.eval()\n",
    "\n",
    "    # predict the test set\n",
    "    predictions, labels = predict_test_set(base_test_dir_a, base_test_dir_b, model, data_transform)\n",
    "\n",
    "    if predictions and labels:  \n",
    "        binary_predictions = [1 if p >= 0.5 else 0 for p in predictions]\n",
    "        accuracy = accuracy_score(labels, binary_predictions)\n",
    "        roc_auc = roc_auc_score(labels, predictions)  \n",
    "        cm = confusion_matrix(labels, binary_predictions)\n",
    "        print(f\"{model_name} - Accuracy: {accuracy*100:.2f}%\")\n",
    "        print(f\"{model_name} - ROC AUC Score: {roc_auc:.2f}\")\n",
    "\n",
    "        # plot confusion matrix\n",
    "        plt.figure(figsize=(8, 6))\n",
    "        sns.heatmap(cm, annot=True, fmt='d', cmap='Blues', xticklabels=['Normal', 'Kidney Stone'], yticklabels=['Normal', 'Kidney Stone'])\n",
    "        plt.xlabel('Predicted Label')\n",
    "        plt.ylabel('True Label')\n",
    "        plt.title(f'Confusion Matrix - {model_name}')\n",
    "        plt.show()\n",
    "    else:\n",
    "        print(\"No valid data was processed. Please check input paths and file formats.\")\n"
   ]
  }
 ],
 "metadata": {
  "kernelspec": {
   "display_name": "Python 3",
   "language": "python",
   "name": "python3"
  },
  "language_info": {
   "codemirror_mode": {
    "name": "ipython",
    "version": 3
   },
   "file_extension": ".py",
   "mimetype": "text/x-python",
   "name": "python",
   "nbconvert_exporter": "python",
   "pygments_lexer": "ipython3",
   "version": "3.9.19"
  }
 },
 "nbformat": 4,
 "nbformat_minor": 2
}
